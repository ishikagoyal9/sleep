{
 "cells": [
  {
   "cell_type": "code",
   "execution_count": 183,
   "id": "b39193af",
   "metadata": {},
   "outputs": [],
   "source": [
    "import pandas as pd\n",
    "import numpy as np\n",
    "import matplotlib.pyplot as plt\n",
    "import re\n",
    "import seaborn as sns"
   ]
  },
  {
   "cell_type": "code",
   "execution_count": 184,
   "id": "cd6b0d5d",
   "metadata": {},
   "outputs": [],
   "source": [
    "df=pd.read_csv(r\"C:\\Users\\Asus\\OneDrive\\Desktop\\data science\\usa real estate dataset\\Sleep_health_and_lifestyle_dataset.csv\")"
   ]
  },
  {
   "cell_type": "code",
   "execution_count": 185,
   "id": "4d3e359a",
   "metadata": {},
   "outputs": [
    {
     "data": {
      "text/plain": [
       "(374, 13)"
      ]
     },
     "execution_count": 185,
     "metadata": {},
     "output_type": "execute_result"
    }
   ],
   "source": [
    "df.shape"
   ]
  },
  {
   "cell_type": "code",
   "execution_count": 186,
   "id": "b9a07252",
   "metadata": {},
   "outputs": [
    {
     "data": {
      "text/plain": [
       "Person ID                    int64\n",
       "Gender                      object\n",
       "Age                          int64\n",
       "Occupation                  object\n",
       "Sleep Duration             float64\n",
       "Quality of Sleep             int64\n",
       "Physical Activity Level      int64\n",
       "Stress Level                 int64\n",
       "BMI Category                object\n",
       "Blood Pressure              object\n",
       "Heart Rate                   int64\n",
       "Daily Steps                  int64\n",
       "Sleep Disorder              object\n",
       "dtype: object"
      ]
     },
     "execution_count": 186,
     "metadata": {},
     "output_type": "execute_result"
    }
   ],
   "source": [
    "df.dtypes"
   ]
  },
  {
   "cell_type": "code",
   "execution_count": 187,
   "id": "d95004c2",
   "metadata": {},
   "outputs": [
    {
     "data": {
      "text/html": [
       "<div>\n",
       "<style scoped>\n",
       "    .dataframe tbody tr th:only-of-type {\n",
       "        vertical-align: middle;\n",
       "    }\n",
       "\n",
       "    .dataframe tbody tr th {\n",
       "        vertical-align: top;\n",
       "    }\n",
       "\n",
       "    .dataframe thead th {\n",
       "        text-align: right;\n",
       "    }\n",
       "</style>\n",
       "<table border=\"1\" class=\"dataframe\">\n",
       "  <thead>\n",
       "    <tr style=\"text-align: right;\">\n",
       "      <th></th>\n",
       "      <th>Person ID</th>\n",
       "      <th>Age</th>\n",
       "      <th>Sleep Duration</th>\n",
       "      <th>Quality of Sleep</th>\n",
       "      <th>Physical Activity Level</th>\n",
       "      <th>Stress Level</th>\n",
       "      <th>Heart Rate</th>\n",
       "      <th>Daily Steps</th>\n",
       "    </tr>\n",
       "  </thead>\n",
       "  <tbody>\n",
       "    <tr>\n",
       "      <th>count</th>\n",
       "      <td>374.000000</td>\n",
       "      <td>374.000000</td>\n",
       "      <td>374.000000</td>\n",
       "      <td>374.000000</td>\n",
       "      <td>374.000000</td>\n",
       "      <td>374.000000</td>\n",
       "      <td>374.000000</td>\n",
       "      <td>374.000000</td>\n",
       "    </tr>\n",
       "    <tr>\n",
       "      <th>mean</th>\n",
       "      <td>187.500000</td>\n",
       "      <td>42.184492</td>\n",
       "      <td>7.132086</td>\n",
       "      <td>7.312834</td>\n",
       "      <td>59.171123</td>\n",
       "      <td>5.385027</td>\n",
       "      <td>70.165775</td>\n",
       "      <td>6816.844920</td>\n",
       "    </tr>\n",
       "    <tr>\n",
       "      <th>std</th>\n",
       "      <td>108.108742</td>\n",
       "      <td>8.673133</td>\n",
       "      <td>0.795657</td>\n",
       "      <td>1.196956</td>\n",
       "      <td>20.830804</td>\n",
       "      <td>1.774526</td>\n",
       "      <td>4.135676</td>\n",
       "      <td>1617.915679</td>\n",
       "    </tr>\n",
       "    <tr>\n",
       "      <th>min</th>\n",
       "      <td>1.000000</td>\n",
       "      <td>27.000000</td>\n",
       "      <td>5.800000</td>\n",
       "      <td>4.000000</td>\n",
       "      <td>30.000000</td>\n",
       "      <td>3.000000</td>\n",
       "      <td>65.000000</td>\n",
       "      <td>3000.000000</td>\n",
       "    </tr>\n",
       "    <tr>\n",
       "      <th>25%</th>\n",
       "      <td>94.250000</td>\n",
       "      <td>35.250000</td>\n",
       "      <td>6.400000</td>\n",
       "      <td>6.000000</td>\n",
       "      <td>45.000000</td>\n",
       "      <td>4.000000</td>\n",
       "      <td>68.000000</td>\n",
       "      <td>5600.000000</td>\n",
       "    </tr>\n",
       "    <tr>\n",
       "      <th>50%</th>\n",
       "      <td>187.500000</td>\n",
       "      <td>43.000000</td>\n",
       "      <td>7.200000</td>\n",
       "      <td>7.000000</td>\n",
       "      <td>60.000000</td>\n",
       "      <td>5.000000</td>\n",
       "      <td>70.000000</td>\n",
       "      <td>7000.000000</td>\n",
       "    </tr>\n",
       "    <tr>\n",
       "      <th>75%</th>\n",
       "      <td>280.750000</td>\n",
       "      <td>50.000000</td>\n",
       "      <td>7.800000</td>\n",
       "      <td>8.000000</td>\n",
       "      <td>75.000000</td>\n",
       "      <td>7.000000</td>\n",
       "      <td>72.000000</td>\n",
       "      <td>8000.000000</td>\n",
       "    </tr>\n",
       "    <tr>\n",
       "      <th>max</th>\n",
       "      <td>374.000000</td>\n",
       "      <td>59.000000</td>\n",
       "      <td>8.500000</td>\n",
       "      <td>9.000000</td>\n",
       "      <td>90.000000</td>\n",
       "      <td>8.000000</td>\n",
       "      <td>86.000000</td>\n",
       "      <td>10000.000000</td>\n",
       "    </tr>\n",
       "  </tbody>\n",
       "</table>\n",
       "</div>"
      ],
      "text/plain": [
       "        Person ID         Age  Sleep Duration  Quality of Sleep  \\\n",
       "count  374.000000  374.000000      374.000000        374.000000   \n",
       "mean   187.500000   42.184492        7.132086          7.312834   \n",
       "std    108.108742    8.673133        0.795657          1.196956   \n",
       "min      1.000000   27.000000        5.800000          4.000000   \n",
       "25%     94.250000   35.250000        6.400000          6.000000   \n",
       "50%    187.500000   43.000000        7.200000          7.000000   \n",
       "75%    280.750000   50.000000        7.800000          8.000000   \n",
       "max    374.000000   59.000000        8.500000          9.000000   \n",
       "\n",
       "       Physical Activity Level  Stress Level  Heart Rate   Daily Steps  \n",
       "count               374.000000    374.000000  374.000000    374.000000  \n",
       "mean                 59.171123      5.385027   70.165775   6816.844920  \n",
       "std                  20.830804      1.774526    4.135676   1617.915679  \n",
       "min                  30.000000      3.000000   65.000000   3000.000000  \n",
       "25%                  45.000000      4.000000   68.000000   5600.000000  \n",
       "50%                  60.000000      5.000000   70.000000   7000.000000  \n",
       "75%                  75.000000      7.000000   72.000000   8000.000000  \n",
       "max                  90.000000      8.000000   86.000000  10000.000000  "
      ]
     },
     "execution_count": 187,
     "metadata": {},
     "output_type": "execute_result"
    }
   ],
   "source": [
    "df.describe()"
   ]
  },
  {
   "cell_type": "code",
   "execution_count": 188,
   "id": "e9b7477c",
   "metadata": {},
   "outputs": [
    {
     "name": "stdout",
     "output_type": "stream",
     "text": [
      "<class 'pandas.core.frame.DataFrame'>\n",
      "RangeIndex: 374 entries, 0 to 373\n",
      "Data columns (total 13 columns):\n",
      " #   Column                   Non-Null Count  Dtype  \n",
      "---  ------                   --------------  -----  \n",
      " 0   Person ID                374 non-null    int64  \n",
      " 1   Gender                   374 non-null    object \n",
      " 2   Age                      374 non-null    int64  \n",
      " 3   Occupation               374 non-null    object \n",
      " 4   Sleep Duration           374 non-null    float64\n",
      " 5   Quality of Sleep         374 non-null    int64  \n",
      " 6   Physical Activity Level  374 non-null    int64  \n",
      " 7   Stress Level             374 non-null    int64  \n",
      " 8   BMI Category             374 non-null    object \n",
      " 9   Blood Pressure           374 non-null    object \n",
      " 10  Heart Rate               374 non-null    int64  \n",
      " 11  Daily Steps              374 non-null    int64  \n",
      " 12  Sleep Disorder           155 non-null    object \n",
      "dtypes: float64(1), int64(7), object(5)\n",
      "memory usage: 38.1+ KB\n"
     ]
    }
   ],
   "source": [
    "df.info()"
   ]
  },
  {
   "cell_type": "code",
   "execution_count": 189,
   "id": "eddb1b55",
   "metadata": {},
   "outputs": [
    {
     "data": {
      "text/plain": [
       "Person ID                    0\n",
       "Gender                       0\n",
       "Age                          0\n",
       "Occupation                   0\n",
       "Sleep Duration               0\n",
       "Quality of Sleep             0\n",
       "Physical Activity Level      0\n",
       "Stress Level                 0\n",
       "BMI Category                 0\n",
       "Blood Pressure               0\n",
       "Heart Rate                   0\n",
       "Daily Steps                  0\n",
       "Sleep Disorder             219\n",
       "dtype: int64"
      ]
     },
     "execution_count": 189,
     "metadata": {},
     "output_type": "execute_result"
    }
   ],
   "source": [
    "df.isnull().sum()"
   ]
  },
  {
   "cell_type": "code",
   "execution_count": 190,
   "id": "df2048b6",
   "metadata": {},
   "outputs": [
    {
     "data": {
      "text/plain": [
       "0      False\n",
       "1      False\n",
       "2      False\n",
       "3      False\n",
       "4      False\n",
       "       ...  \n",
       "369    False\n",
       "370    False\n",
       "371    False\n",
       "372    False\n",
       "373    False\n",
       "Length: 374, dtype: bool"
      ]
     },
     "execution_count": 190,
     "metadata": {},
     "output_type": "execute_result"
    }
   ],
   "source": [
    "df.duplicated()"
   ]
  },
  {
   "cell_type": "code",
   "execution_count": 191,
   "id": "542719d9",
   "metadata": {},
   "outputs": [
    {
     "data": {
      "text/plain": [
       "np.int64(0)"
      ]
     },
     "execution_count": 191,
     "metadata": {},
     "output_type": "execute_result"
    }
   ],
   "source": [
    "df.duplicated().sum()"
   ]
  },
  {
   "cell_type": "code",
   "execution_count": 192,
   "id": "f6cf0fe6",
   "metadata": {},
   "outputs": [
    {
     "data": {
      "text/plain": [
       "(374, 13)"
      ]
     },
     "execution_count": 192,
     "metadata": {},
     "output_type": "execute_result"
    }
   ],
   "source": [
    "df = df.drop_duplicates()\n",
    "df.shape"
   ]
  },
  {
   "cell_type": "code",
   "execution_count": 193,
   "id": "7eaf1c66",
   "metadata": {},
   "outputs": [],
   "source": [
    "df_2=df.drop(columns=['Gender','Occupation','BMI Category','Blood Pressure','Sleep Disorder'])\n"
   ]
  },
  {
   "cell_type": "code",
   "execution_count": 194,
   "id": "c3581a3b",
   "metadata": {},
   "outputs": [
    {
     "data": {
      "text/html": [
       "<div>\n",
       "<style scoped>\n",
       "    .dataframe tbody tr th:only-of-type {\n",
       "        vertical-align: middle;\n",
       "    }\n",
       "\n",
       "    .dataframe tbody tr th {\n",
       "        vertical-align: top;\n",
       "    }\n",
       "\n",
       "    .dataframe thead th {\n",
       "        text-align: right;\n",
       "    }\n",
       "</style>\n",
       "<table border=\"1\" class=\"dataframe\">\n",
       "  <thead>\n",
       "    <tr style=\"text-align: right;\">\n",
       "      <th></th>\n",
       "      <th>Person ID</th>\n",
       "      <th>Age</th>\n",
       "      <th>Sleep Duration</th>\n",
       "      <th>Quality of Sleep</th>\n",
       "      <th>Physical Activity Level</th>\n",
       "      <th>Stress Level</th>\n",
       "      <th>Heart Rate</th>\n",
       "      <th>Daily Steps</th>\n",
       "    </tr>\n",
       "  </thead>\n",
       "  <tbody>\n",
       "    <tr>\n",
       "      <th>Person ID</th>\n",
       "      <td>1.000000</td>\n",
       "      <td>0.990516</td>\n",
       "      <td>0.296305</td>\n",
       "      <td>0.431612</td>\n",
       "      <td>0.149882</td>\n",
       "      <td>-0.394287</td>\n",
       "      <td>-0.225467</td>\n",
       "      <td>0.043844</td>\n",
       "    </tr>\n",
       "    <tr>\n",
       "      <th>Age</th>\n",
       "      <td>0.990516</td>\n",
       "      <td>1.000000</td>\n",
       "      <td>0.344709</td>\n",
       "      <td>0.473734</td>\n",
       "      <td>0.178993</td>\n",
       "      <td>-0.422344</td>\n",
       "      <td>-0.225606</td>\n",
       "      <td>0.057973</td>\n",
       "    </tr>\n",
       "    <tr>\n",
       "      <th>Sleep Duration</th>\n",
       "      <td>0.296305</td>\n",
       "      <td>0.344709</td>\n",
       "      <td>1.000000</td>\n",
       "      <td>0.883213</td>\n",
       "      <td>0.212360</td>\n",
       "      <td>-0.811023</td>\n",
       "      <td>-0.516455</td>\n",
       "      <td>-0.039533</td>\n",
       "    </tr>\n",
       "    <tr>\n",
       "      <th>Quality of Sleep</th>\n",
       "      <td>0.431612</td>\n",
       "      <td>0.473734</td>\n",
       "      <td>0.883213</td>\n",
       "      <td>1.000000</td>\n",
       "      <td>0.192896</td>\n",
       "      <td>-0.898752</td>\n",
       "      <td>-0.659865</td>\n",
       "      <td>0.016791</td>\n",
       "    </tr>\n",
       "    <tr>\n",
       "      <th>Physical Activity Level</th>\n",
       "      <td>0.149882</td>\n",
       "      <td>0.178993</td>\n",
       "      <td>0.212360</td>\n",
       "      <td>0.192896</td>\n",
       "      <td>1.000000</td>\n",
       "      <td>-0.034134</td>\n",
       "      <td>0.136971</td>\n",
       "      <td>0.772723</td>\n",
       "    </tr>\n",
       "    <tr>\n",
       "      <th>Stress Level</th>\n",
       "      <td>-0.394287</td>\n",
       "      <td>-0.422344</td>\n",
       "      <td>-0.811023</td>\n",
       "      <td>-0.898752</td>\n",
       "      <td>-0.034134</td>\n",
       "      <td>1.000000</td>\n",
       "      <td>0.670026</td>\n",
       "      <td>0.186829</td>\n",
       "    </tr>\n",
       "    <tr>\n",
       "      <th>Heart Rate</th>\n",
       "      <td>-0.225467</td>\n",
       "      <td>-0.225606</td>\n",
       "      <td>-0.516455</td>\n",
       "      <td>-0.659865</td>\n",
       "      <td>0.136971</td>\n",
       "      <td>0.670026</td>\n",
       "      <td>1.000000</td>\n",
       "      <td>-0.030309</td>\n",
       "    </tr>\n",
       "    <tr>\n",
       "      <th>Daily Steps</th>\n",
       "      <td>0.043844</td>\n",
       "      <td>0.057973</td>\n",
       "      <td>-0.039533</td>\n",
       "      <td>0.016791</td>\n",
       "      <td>0.772723</td>\n",
       "      <td>0.186829</td>\n",
       "      <td>-0.030309</td>\n",
       "      <td>1.000000</td>\n",
       "    </tr>\n",
       "  </tbody>\n",
       "</table>\n",
       "</div>"
      ],
      "text/plain": [
       "                         Person ID       Age  Sleep Duration  \\\n",
       "Person ID                 1.000000  0.990516        0.296305   \n",
       "Age                       0.990516  1.000000        0.344709   \n",
       "Sleep Duration            0.296305  0.344709        1.000000   \n",
       "Quality of Sleep          0.431612  0.473734        0.883213   \n",
       "Physical Activity Level   0.149882  0.178993        0.212360   \n",
       "Stress Level             -0.394287 -0.422344       -0.811023   \n",
       "Heart Rate               -0.225467 -0.225606       -0.516455   \n",
       "Daily Steps               0.043844  0.057973       -0.039533   \n",
       "\n",
       "                         Quality of Sleep  Physical Activity Level  \\\n",
       "Person ID                        0.431612                 0.149882   \n",
       "Age                              0.473734                 0.178993   \n",
       "Sleep Duration                   0.883213                 0.212360   \n",
       "Quality of Sleep                 1.000000                 0.192896   \n",
       "Physical Activity Level          0.192896                 1.000000   \n",
       "Stress Level                    -0.898752                -0.034134   \n",
       "Heart Rate                      -0.659865                 0.136971   \n",
       "Daily Steps                      0.016791                 0.772723   \n",
       "\n",
       "                         Stress Level  Heart Rate  Daily Steps  \n",
       "Person ID                   -0.394287   -0.225467     0.043844  \n",
       "Age                         -0.422344   -0.225606     0.057973  \n",
       "Sleep Duration              -0.811023   -0.516455    -0.039533  \n",
       "Quality of Sleep            -0.898752   -0.659865     0.016791  \n",
       "Physical Activity Level     -0.034134    0.136971     0.772723  \n",
       "Stress Level                 1.000000    0.670026     0.186829  \n",
       "Heart Rate                   0.670026    1.000000    -0.030309  \n",
       "Daily Steps                  0.186829   -0.030309     1.000000  "
      ]
     },
     "execution_count": 194,
     "metadata": {},
     "output_type": "execute_result"
    }
   ],
   "source": [
    "df_2.corr()"
   ]
  },
  {
   "cell_type": "code",
   "execution_count": 195,
   "id": "5570f930",
   "metadata": {},
   "outputs": [
    {
     "data": {
      "image/png": "[encoded data removed]",
      "text/plain": [
       "<Figure size 640x480 with 2 Axes>"
      ]
     },
     "metadata": {},
     "output_type": "display_data"
    }
   ],
   "source": [
    "corr_1=df_2.corr()\n",
    "plt.imshow(corr_1,cmap='coolwarm',interpolation='none')\n",
    "plt.colorbar(label='correlation coefficient')\n",
    "plt.xticks(range(len(corr_1)),corr_1.columns,rotation=90)\n",
    "plt.yticks(range(len(corr_1)),corr_1.columns)\n",
    "plt.title(\"correlation heatmap\")\n",
    "plt.tight_layout()\n",
    "\n",
    "\n"
   ]
  },
  {
   "cell_type": "code",
   "execution_count": 196,
   "id": "148313c1",
   "metadata": {},
   "outputs": [
    {
     "data": {
      "text/plain": [
       "np.float64(5.8)"
      ]
     },
     "execution_count": 196,
     "metadata": {},
     "output_type": "execute_result"
    }
   ],
   "source": [
    "df['Sleep Duration'].min()"
   ]
  },
  {
   "cell_type": "code",
   "execution_count": 197,
   "id": "8978e35e",
   "metadata": {},
   "outputs": [
    {
     "data": {
      "text/plain": [
       "np.float64(8.5)"
      ]
     },
     "execution_count": 197,
     "metadata": {},
     "output_type": "execute_result"
    }
   ],
   "source": [
    "df['Sleep Duration'].max()"
   ]
  },
  {
   "cell_type": "code",
   "execution_count": 198,
   "id": "d524401a",
   "metadata": {},
   "outputs": [
    {
     "data": {
      "image/png": "[encoded data removed]",
      "text/plain": [
       "<Figure size 640x480 with 1 Axes>"
      ]
     },
     "metadata": {},
     "output_type": "display_data"
    }
   ],
   "source": [
    "plt.hist(df['Sleep Duration'],color=\"red\",bins=(5.8,6,8,8.5,),rwidth=0.95,edgecolor='black',label=\"sleep duration\")\n",
    "plt.xlabel(\"sleep hours\")\n",
    "plt.ylabel(\"number of people\")\n",
    "plt.title(\"Sleep Duration\")\n",
    "plt.legend()\n",
    "plt.grid(color=\"black\")\n",
    "plt.show()"
   ]
  },
  {
   "cell_type": "code",
   "execution_count": 199,
   "id": "e191b1fb",
   "metadata": {},
   "outputs": [
    {
     "data": {
      "text/html": [
       "<div>\n",
       "<style scoped>\n",
       "    .dataframe tbody tr th:only-of-type {\n",
       "        vertical-align: middle;\n",
       "    }\n",
       "\n",
       "    .dataframe tbody tr th {\n",
       "        vertical-align: top;\n",
       "    }\n",
       "\n",
       "    .dataframe thead th {\n",
       "        text-align: right;\n",
       "    }\n",
       "</style>\n",
       "<table border=\"1\" class=\"dataframe\">\n",
       "  <thead>\n",
       "    <tr style=\"text-align: right;\">\n",
       "      <th></th>\n",
       "      <th>Person ID</th>\n",
       "      <th>Gender</th>\n",
       "      <th>Age</th>\n",
       "      <th>Occupation</th>\n",
       "      <th>Sleep Duration</th>\n",
       "      <th>Quality of Sleep</th>\n",
       "      <th>Physical Activity Level</th>\n",
       "      <th>Stress Level</th>\n",
       "      <th>BMI Category</th>\n",
       "      <th>Blood Pressure</th>\n",
       "      <th>Heart Rate</th>\n",
       "      <th>Daily Steps</th>\n",
       "      <th>Sleep Disorder</th>\n",
       "    </tr>\n",
       "  </thead>\n",
       "  <tbody>\n",
       "    <tr>\n",
       "      <th>0</th>\n",
       "      <td>1</td>\n",
       "      <td>Male</td>\n",
       "      <td>27</td>\n",
       "      <td>Software Engineer</td>\n",
       "      <td>6.1</td>\n",
       "      <td>6</td>\n",
       "      <td>42</td>\n",
       "      <td>6</td>\n",
       "      <td>Overweight</td>\n",
       "      <td>126/83</td>\n",
       "      <td>77</td>\n",
       "      <td>4200</td>\n",
       "      <td>NaN</td>\n",
       "    </tr>\n",
       "    <tr>\n",
       "      <th>1</th>\n",
       "      <td>2</td>\n",
       "      <td>Male</td>\n",
       "      <td>28</td>\n",
       "      <td>Doctor</td>\n",
       "      <td>6.2</td>\n",
       "      <td>6</td>\n",
       "      <td>60</td>\n",
       "      <td>8</td>\n",
       "      <td>Normal</td>\n",
       "      <td>125/80</td>\n",
       "      <td>75</td>\n",
       "      <td>10000</td>\n",
       "      <td>NaN</td>\n",
       "    </tr>\n",
       "    <tr>\n",
       "      <th>2</th>\n",
       "      <td>3</td>\n",
       "      <td>Male</td>\n",
       "      <td>28</td>\n",
       "      <td>Doctor</td>\n",
       "      <td>6.2</td>\n",
       "      <td>6</td>\n",
       "      <td>60</td>\n",
       "      <td>8</td>\n",
       "      <td>Normal</td>\n",
       "      <td>125/80</td>\n",
       "      <td>75</td>\n",
       "      <td>10000</td>\n",
       "      <td>NaN</td>\n",
       "    </tr>\n",
       "    <tr>\n",
       "      <th>3</th>\n",
       "      <td>4</td>\n",
       "      <td>Male</td>\n",
       "      <td>28</td>\n",
       "      <td>Sales Representative</td>\n",
       "      <td>5.9</td>\n",
       "      <td>4</td>\n",
       "      <td>30</td>\n",
       "      <td>8</td>\n",
       "      <td>Obese</td>\n",
       "      <td>140/90</td>\n",
       "      <td>85</td>\n",
       "      <td>3000</td>\n",
       "      <td>Sleep Apnea</td>\n",
       "    </tr>\n",
       "    <tr>\n",
       "      <th>4</th>\n",
       "      <td>5</td>\n",
       "      <td>Male</td>\n",
       "      <td>28</td>\n",
       "      <td>Sales Representative</td>\n",
       "      <td>5.9</td>\n",
       "      <td>4</td>\n",
       "      <td>30</td>\n",
       "      <td>8</td>\n",
       "      <td>Obese</td>\n",
       "      <td>140/90</td>\n",
       "      <td>85</td>\n",
       "      <td>3000</td>\n",
       "      <td>Sleep Apnea</td>\n",
       "    </tr>\n",
       "    <tr>\n",
       "      <th>...</th>\n",
       "      <td>...</td>\n",
       "      <td>...</td>\n",
       "      <td>...</td>\n",
       "      <td>...</td>\n",
       "      <td>...</td>\n",
       "      <td>...</td>\n",
       "      <td>...</td>\n",
       "      <td>...</td>\n",
       "      <td>...</td>\n",
       "      <td>...</td>\n",
       "      <td>...</td>\n",
       "      <td>...</td>\n",
       "      <td>...</td>\n",
       "    </tr>\n",
       "    <tr>\n",
       "      <th>369</th>\n",
       "      <td>370</td>\n",
       "      <td>Female</td>\n",
       "      <td>59</td>\n",
       "      <td>Nurse</td>\n",
       "      <td>8.1</td>\n",
       "      <td>9</td>\n",
       "      <td>75</td>\n",
       "      <td>3</td>\n",
       "      <td>Overweight</td>\n",
       "      <td>140/95</td>\n",
       "      <td>68</td>\n",
       "      <td>7000</td>\n",
       "      <td>Sleep Apnea</td>\n",
       "    </tr>\n",
       "    <tr>\n",
       "      <th>370</th>\n",
       "      <td>371</td>\n",
       "      <td>Female</td>\n",
       "      <td>59</td>\n",
       "      <td>Nurse</td>\n",
       "      <td>8.0</td>\n",
       "      <td>9</td>\n",
       "      <td>75</td>\n",
       "      <td>3</td>\n",
       "      <td>Overweight</td>\n",
       "      <td>140/95</td>\n",
       "      <td>68</td>\n",
       "      <td>7000</td>\n",
       "      <td>Sleep Apnea</td>\n",
       "    </tr>\n",
       "    <tr>\n",
       "      <th>371</th>\n",
       "      <td>372</td>\n",
       "      <td>Female</td>\n",
       "      <td>59</td>\n",
       "      <td>Nurse</td>\n",
       "      <td>8.1</td>\n",
       "      <td>9</td>\n",
       "      <td>75</td>\n",
       "      <td>3</td>\n",
       "      <td>Overweight</td>\n",
       "      <td>140/95</td>\n",
       "      <td>68</td>\n",
       "      <td>7000</td>\n",
       "      <td>Sleep Apnea</td>\n",
       "    </tr>\n",
       "    <tr>\n",
       "      <th>372</th>\n",
       "      <td>373</td>\n",
       "      <td>Female</td>\n",
       "      <td>59</td>\n",
       "      <td>Nurse</td>\n",
       "      <td>8.1</td>\n",
       "      <td>9</td>\n",
       "      <td>75</td>\n",
       "      <td>3</td>\n",
       "      <td>Overweight</td>\n",
       "      <td>140/95</td>\n",
       "      <td>68</td>\n",
       "      <td>7000</td>\n",
       "      <td>Sleep Apnea</td>\n",
       "    </tr>\n",
       "    <tr>\n",
       "      <th>373</th>\n",
       "      <td>374</td>\n",
       "      <td>Female</td>\n",
       "      <td>59</td>\n",
       "      <td>Nurse</td>\n",
       "      <td>8.1</td>\n",
       "      <td>9</td>\n",
       "      <td>75</td>\n",
       "      <td>3</td>\n",
       "      <td>Overweight</td>\n",
       "      <td>140/95</td>\n",
       "      <td>68</td>\n",
       "      <td>7000</td>\n",
       "      <td>Sleep Apnea</td>\n",
       "    </tr>\n",
       "  </tbody>\n",
       "</table>\n",
       "<p>374 rows × 13 columns</p>\n",
       "</div>"
      ],
      "text/plain": [
       "     Person ID  Gender  Age            Occupation  Sleep Duration  \\\n",
       "0            1    Male   27     Software Engineer             6.1   \n",
       "1            2    Male   28                Doctor             6.2   \n",
       "2            3    Male   28                Doctor             6.2   \n",
       "3            4    Male   28  Sales Representative             5.9   \n",
       "4            5    Male   28  Sales Representative             5.9   \n",
       "..         ...     ...  ...                   ...             ...   \n",
       "369        370  Female   59                 Nurse             8.1   \n",
       "370        371  Female   59                 Nurse             8.0   \n",
       "371        372  Female   59                 Nurse             8.1   \n",
       "372        373  Female   59                 Nurse             8.1   \n",
       "373        374  Female   59                 Nurse             8.1   \n",
       "\n",
       "     Quality of Sleep  Physical Activity Level  Stress Level BMI Category  \\\n",
       "0                   6                       42             6   Overweight   \n",
       "1                   6                       60             8       Normal   \n",
       "2                   6                       60             8       Normal   \n",
       "3                   4                       30             8        Obese   \n",
       "4                   4                       30             8        Obese   \n",
       "..                ...                      ...           ...          ...   \n",
       "369                 9                       75             3   Overweight   \n",
       "370                 9                       75             3   Overweight   \n",
       "371                 9                       75             3   Overweight   \n",
       "372                 9                       75             3   Overweight   \n",
       "373                 9                       75             3   Overweight   \n",
       "\n",
       "    Blood Pressure  Heart Rate  Daily Steps Sleep Disorder  \n",
       "0           126/83          77         4200            NaN  \n",
       "1           125/80          75        10000            NaN  \n",
       "2           125/80          75        10000            NaN  \n",
       "3           140/90          85         3000    Sleep Apnea  \n",
       "4           140/90          85         3000    Sleep Apnea  \n",
       "..             ...         ...          ...            ...  \n",
       "369         140/95          68         7000    Sleep Apnea  \n",
       "370         140/95          68         7000    Sleep Apnea  \n",
       "371         140/95          68         7000    Sleep Apnea  \n",
       "372         140/95          68         7000    Sleep Apnea  \n",
       "373         140/95          68         7000    Sleep Apnea  \n",
       "\n",
       "[374 rows x 13 columns]"
      ]
     },
     "execution_count": 199,
     "metadata": {},
     "output_type": "execute_result"
    }
   ],
   "source": [
    "df_sorted_age=df.sort_values(by='Age')\n",
    "df_sorted_age\n"
   ]
  },
  {
   "cell_type": "code",
   "execution_count": 200,
   "id": "b4cda955",
   "metadata": {},
   "outputs": [
    {
     "data": {
      "image/png": "[encoded data removed]",
      "text/plain": [
       "<Figure size 640x480 with 1 Axes>"
      ]
     },
     "metadata": {},
     "output_type": "display_data"
    }
   ],
   "source": [
    "plt.Figure()\n",
    "plt.hist(df['Age'],bins=[27,35,50,59],rwidth=0.95,edgecolor=\"black\")\n",
    "plt.grid(color=\"black\")\n",
    "plt.title(\"age distribution\")\n",
    "plt.xlabel(\"age\")\n",
    "plt.ylabel(\"number of people\")\n",
    "plt.show()\n"
   ]
  },
  {
   "cell_type": "code",
   "execution_count": 201,
   "id": "09164b65",
   "metadata": {},
   "outputs": [
    {
     "data": {
      "text/plain": [
       "np.int64(4)"
      ]
     },
     "execution_count": 201,
     "metadata": {},
     "output_type": "execute_result"
    }
   ],
   "source": [
    "df['Quality of Sleep'].min()"
   ]
  },
  {
   "cell_type": "code",
   "execution_count": 202,
   "id": "a08ea212",
   "metadata": {},
   "outputs": [
    {
     "data": {
      "text/plain": [
       "np.int64(9)"
      ]
     },
     "execution_count": 202,
     "metadata": {},
     "output_type": "execute_result"
    }
   ],
   "source": [
    "df['Quality of Sleep'].max()"
   ]
  },
  {
   "cell_type": "code",
   "execution_count": 203,
   "id": "50534348",
   "metadata": {},
   "outputs": [
    {
     "data": {
      "image/png": "[encoded data removed]",
      "text/plain": [
       "<Figure size 640x480 with 1 Axes>"
      ]
     },
     "metadata": {},
     "output_type": "display_data"
    }
   ],
   "source": [
    "\n",
    "plt.hist(df['Quality of Sleep'],bins=[4,5,6,7,8,9],edgecolor=\"black\")\n",
    "plt.grid(color=\"black\")\n",
    "plt.title(\"Quality of sleep\")\n",
    "plt.xlabel(\"rating of quality sleep\")\n",
    "plt.ylabel(\"number of people\")\n",
    "plt.show()"
   ]
  },
  {
   "cell_type": "code",
   "execution_count": 204,
   "id": "0b931136",
   "metadata": {},
   "outputs": [
    {
     "data": {
      "text/plain": [
       "np.int64(3)"
      ]
     },
     "execution_count": 204,
     "metadata": {},
     "output_type": "execute_result"
    }
   ],
   "source": [
    "df['Stress Level'].min()\n"
   ]
  },
  {
   "cell_type": "code",
   "execution_count": 205,
   "id": "45c97a6b",
   "metadata": {},
   "outputs": [
    {
     "data": {
      "text/plain": [
       "np.int64(8)"
      ]
     },
     "execution_count": 205,
     "metadata": {},
     "output_type": "execute_result"
    }
   ],
   "source": [
    "df['Stress Level'].max()\n"
   ]
  },
  {
   "cell_type": "code",
   "execution_count": 206,
   "id": "d9472144",
   "metadata": {},
   "outputs": [
    {
     "data": {
      "image/png": "[encoded data removed]",
      "text/plain": [
       "<Figure size 640x480 with 1 Axes>"
      ]
     },
     "metadata": {},
     "output_type": "display_data"
    }
   ],
   "source": [
    "plt.hist(df['Stress Level'],bins=5,edgecolor=\"black\",rwidth=0.85)\n",
    "plt.grid(color=\"black\")\n",
    "plt.title(\" stress level\")\n",
    "plt.xlabel(\"rating of stress sleep\")\n",
    "plt.ylabel(\"number of people\")\n",
    "plt.show()"
   ]
  },
  {
   "cell_type": "code",
   "execution_count": 207,
   "id": "fc0370e4",
   "metadata": {},
   "outputs": [
    {
     "data": {
      "image/png": "[encoded data removed]",
      "text/plain": [
       "<Figure size 640x480 with 1 Axes>"
      ]
     },
     "metadata": {},
     "output_type": "display_data"
    }
   ],
   "source": [
    "plt.title('Heart rates according to stress levels')\n",
    "plt.xlabel(\"Stress level ratings\")\n",
    "plt.ylabel('Heart rates (bpm)')\n",
    "grouped=df.groupby('Stress Level')['Heart Rate'].mean()\n",
    "plt.bar(grouped.index,grouped.values,edgecolor='black',color='yellow')\n",
    "plt.grid()\n",
    "plt.show()"
   ]
  },
  {
   "cell_type": "code",
   "execution_count": 208,
   "id": "da7ec111",
   "metadata": {},
   "outputs": [
    {
     "data": {
      "image/png": "[encoded data removed]",
      "text/plain": [
       "<Figure size 640x480 with 1 Axes>"
      ]
     },
     "metadata": {},
     "output_type": "display_data"
    }
   ],
   "source": [
    "plt.title('Sleep duration trend by gender')\n",
    "plt.ylabel('Sleep Duration')\n",
    "plt.xlabel(\"Gender\")\n",
    "grouped=df.groupby('Gender')['Sleep Duration'].mean()\n",
    "plt.bar(grouped.index,grouped.values,edgecolor='black')\n",
    "plt.grid()\n",
    "plt.show()"
   ]
  },
  {
   "cell_type": "code",
   "execution_count": 209,
   "id": "2dc7d5bc",
   "metadata": {},
   "outputs": [
    {
     "data": {
      "image/png": "[encoded data removed]",
      "text/plain": [
       "<Figure size 640x480 with 1 Axes>"
      ]
     },
     "metadata": {},
     "output_type": "display_data"
    }
   ],
   "source": [
    "plt.title('Sleep duration trends by age')\n",
    "plt.xlabel('Ages')\n",
    "plt.ylabel('sleep duration (hours)')\n",
    "plt.bar(df['Age'],df['Sleep Duration'],width=0.2,edgecolor='black')\n",
    "plt.grid()"
   ]
  },
  {
   "cell_type": "code",
   "execution_count": 210,
   "id": "d587c5ef",
   "metadata": {},
   "outputs": [
    {
     "data": {
      "image/png": "[encoded data removed]",
      "text/plain": [
       "<Figure size 640x480 with 1 Axes>"
      ]
     },
     "metadata": {},
     "output_type": "display_data"
    }
   ],
   "source": [
    "grouped=df.groupby('Stress Level')['Quality of Sleep'].mean()\n",
    "grouped2=df.groupby('Stress Level')['Sleep Duration'].mean()\n",
    "plt.title('Relationship of stress level with Sleep')\n",
    "plt.xlabel('stress level ratings')\n",
    "plt.bar(grouped.index-0.2,grouped.values,width=0.5,color='red',edgecolor='black',label='Quality of sleep')\n",
    "plt.bar(grouped2.index+0.2,grouped2.values,width=0.5,color='yellow',edgecolor='black',label='Sleep Duration')\n",
    "plt.legend()\n",
    "plt.grid()"
   ]
  },
  {
   "cell_type": "code",
   "execution_count": 211,
   "id": "de71996b",
   "metadata": {},
   "outputs": [
    {
     "data": {
      "image/png": "[encoded data removed]",
      "text/plain": [
       "<Figure size 640x480 with 1 Axes>"
      ]
     },
     "metadata": {},
     "output_type": "display_data"
    }
   ],
   "source": [
    "plt.title(\"sleep quality vs sleep duration \")\n",
    "plt.xlabel(\"Sleep duration (hours)\")\n",
    "plt.ylabel(\"sleep quality(rating)\")\n",
    "plt.bar(df['Sleep Duration'],df['Quality of Sleep'],width=0.05,edgecolor=\"black\",color='red')\n",
    "plt.grid(color=\"grey\")"
   ]
  },
  {
   "cell_type": "code",
   "execution_count": 212,
   "id": "49b9e527",
   "metadata": {},
   "outputs": [
    {
     "data": {
      "image/png": "[encoded data removed]",
      "text/plain": [
       "<Figure size 640x480 with 1 Axes>"
      ]
     },
     "metadata": {},
     "output_type": "display_data"
    }
   ],
   "source": [
    "plt.title(\"sleep duration vs physical activity\")\n",
    "plt.xlabel(\"physical activity level\")\n",
    "plt.ylabel(\"sleep duration\")\n",
    "plt.bar(df['Physical Activity Level'],df['Sleep Duration'],width=1,edgecolor=\"black\",color='red')\n",
    "plt.grid(color=\"grey\")"
   ]
  },
  {
   "cell_type": "code",
   "execution_count": 213,
   "id": "ac56b62c",
   "metadata": {},
   "outputs": [
    {
     "data": {
      "text/html": [
       "<div>\n",
       "<style scoped>\n",
       "    .dataframe tbody tr th:only-of-type {\n",
       "        vertical-align: middle;\n",
       "    }\n",
       "\n",
       "    .dataframe tbody tr th {\n",
       "        vertical-align: top;\n",
       "    }\n",
       "\n",
       "    .dataframe thead th {\n",
       "        text-align: right;\n",
       "    }\n",
       "</style>\n",
       "<table border=\"1\" class=\"dataframe\">\n",
       "  <thead>\n",
       "    <tr style=\"text-align: right;\">\n",
       "      <th></th>\n",
       "      <th>Person ID</th>\n",
       "      <th>Gender</th>\n",
       "      <th>Age</th>\n",
       "      <th>Occupation</th>\n",
       "      <th>Sleep Duration</th>\n",
       "      <th>Quality of Sleep</th>\n",
       "      <th>Physical Activity Level</th>\n",
       "      <th>Stress Level</th>\n",
       "      <th>BMI Category</th>\n",
       "      <th>Blood Pressure</th>\n",
       "      <th>Heart Rate</th>\n",
       "      <th>Daily Steps</th>\n",
       "      <th>Sleep Disorder</th>\n",
       "    </tr>\n",
       "  </thead>\n",
       "  <tbody>\n",
       "    <tr>\n",
       "      <th>81</th>\n",
       "      <td>82</td>\n",
       "      <td>Female</td>\n",
       "      <td>34</td>\n",
       "      <td>Scientist</td>\n",
       "      <td>5.8</td>\n",
       "      <td>4</td>\n",
       "      <td>32</td>\n",
       "      <td>8</td>\n",
       "      <td>Overweight</td>\n",
       "      <td>131/86</td>\n",
       "      <td>81</td>\n",
       "      <td>5200</td>\n",
       "      <td>Sleep Apnea</td>\n",
       "    </tr>\n",
       "    <tr>\n",
       "      <th>80</th>\n",
       "      <td>81</td>\n",
       "      <td>Female</td>\n",
       "      <td>34</td>\n",
       "      <td>Scientist</td>\n",
       "      <td>5.8</td>\n",
       "      <td>4</td>\n",
       "      <td>32</td>\n",
       "      <td>8</td>\n",
       "      <td>Overweight</td>\n",
       "      <td>131/86</td>\n",
       "      <td>81</td>\n",
       "      <td>5200</td>\n",
       "      <td>Sleep Apnea</td>\n",
       "    </tr>\n",
       "    <tr>\n",
       "      <th>3</th>\n",
       "      <td>4</td>\n",
       "      <td>Male</td>\n",
       "      <td>28</td>\n",
       "      <td>Sales Representative</td>\n",
       "      <td>5.9</td>\n",
       "      <td>4</td>\n",
       "      <td>30</td>\n",
       "      <td>8</td>\n",
       "      <td>Obese</td>\n",
       "      <td>140/90</td>\n",
       "      <td>85</td>\n",
       "      <td>3000</td>\n",
       "      <td>Sleep Apnea</td>\n",
       "    </tr>\n",
       "    <tr>\n",
       "      <th>4</th>\n",
       "      <td>5</td>\n",
       "      <td>Male</td>\n",
       "      <td>28</td>\n",
       "      <td>Sales Representative</td>\n",
       "      <td>5.9</td>\n",
       "      <td>4</td>\n",
       "      <td>30</td>\n",
       "      <td>8</td>\n",
       "      <td>Obese</td>\n",
       "      <td>140/90</td>\n",
       "      <td>85</td>\n",
       "      <td>3000</td>\n",
       "      <td>Sleep Apnea</td>\n",
       "    </tr>\n",
       "    <tr>\n",
       "      <th>5</th>\n",
       "      <td>6</td>\n",
       "      <td>Male</td>\n",
       "      <td>28</td>\n",
       "      <td>Software Engineer</td>\n",
       "      <td>5.9</td>\n",
       "      <td>4</td>\n",
       "      <td>30</td>\n",
       "      <td>8</td>\n",
       "      <td>Obese</td>\n",
       "      <td>140/90</td>\n",
       "      <td>85</td>\n",
       "      <td>3000</td>\n",
       "      <td>Insomnia</td>\n",
       "    </tr>\n",
       "    <tr>\n",
       "      <th>...</th>\n",
       "      <td>...</td>\n",
       "      <td>...</td>\n",
       "      <td>...</td>\n",
       "      <td>...</td>\n",
       "      <td>...</td>\n",
       "      <td>...</td>\n",
       "      <td>...</td>\n",
       "      <td>...</td>\n",
       "      <td>...</td>\n",
       "      <td>...</td>\n",
       "      <td>...</td>\n",
       "      <td>...</td>\n",
       "      <td>...</td>\n",
       "    </tr>\n",
       "    <tr>\n",
       "      <th>330</th>\n",
       "      <td>331</td>\n",
       "      <td>Female</td>\n",
       "      <td>53</td>\n",
       "      <td>Engineer</td>\n",
       "      <td>8.5</td>\n",
       "      <td>9</td>\n",
       "      <td>30</td>\n",
       "      <td>3</td>\n",
       "      <td>Normal</td>\n",
       "      <td>125/80</td>\n",
       "      <td>65</td>\n",
       "      <td>5000</td>\n",
       "      <td>NaN</td>\n",
       "    </tr>\n",
       "    <tr>\n",
       "      <th>327</th>\n",
       "      <td>328</td>\n",
       "      <td>Female</td>\n",
       "      <td>53</td>\n",
       "      <td>Engineer</td>\n",
       "      <td>8.5</td>\n",
       "      <td>9</td>\n",
       "      <td>30</td>\n",
       "      <td>3</td>\n",
       "      <td>Normal</td>\n",
       "      <td>125/80</td>\n",
       "      <td>65</td>\n",
       "      <td>5000</td>\n",
       "      <td>NaN</td>\n",
       "    </tr>\n",
       "    <tr>\n",
       "      <th>299</th>\n",
       "      <td>300</td>\n",
       "      <td>Female</td>\n",
       "      <td>51</td>\n",
       "      <td>Engineer</td>\n",
       "      <td>8.5</td>\n",
       "      <td>9</td>\n",
       "      <td>30</td>\n",
       "      <td>3</td>\n",
       "      <td>Normal</td>\n",
       "      <td>125/80</td>\n",
       "      <td>65</td>\n",
       "      <td>5000</td>\n",
       "      <td>NaN</td>\n",
       "    </tr>\n",
       "    <tr>\n",
       "      <th>298</th>\n",
       "      <td>299</td>\n",
       "      <td>Female</td>\n",
       "      <td>51</td>\n",
       "      <td>Engineer</td>\n",
       "      <td>8.5</td>\n",
       "      <td>9</td>\n",
       "      <td>30</td>\n",
       "      <td>3</td>\n",
       "      <td>Normal</td>\n",
       "      <td>125/80</td>\n",
       "      <td>65</td>\n",
       "      <td>5000</td>\n",
       "      <td>NaN</td>\n",
       "    </tr>\n",
       "    <tr>\n",
       "      <th>301</th>\n",
       "      <td>302</td>\n",
       "      <td>Female</td>\n",
       "      <td>51</td>\n",
       "      <td>Engineer</td>\n",
       "      <td>8.5</td>\n",
       "      <td>9</td>\n",
       "      <td>30</td>\n",
       "      <td>3</td>\n",
       "      <td>Normal</td>\n",
       "      <td>125/80</td>\n",
       "      <td>65</td>\n",
       "      <td>5000</td>\n",
       "      <td>NaN</td>\n",
       "    </tr>\n",
       "  </tbody>\n",
       "</table>\n",
       "<p>374 rows × 13 columns</p>\n",
       "</div>"
      ],
      "text/plain": [
       "     Person ID  Gender  Age            Occupation  Sleep Duration  \\\n",
       "81          82  Female   34             Scientist             5.8   \n",
       "80          81  Female   34             Scientist             5.8   \n",
       "3            4    Male   28  Sales Representative             5.9   \n",
       "4            5    Male   28  Sales Representative             5.9   \n",
       "5            6    Male   28     Software Engineer             5.9   \n",
       "..         ...     ...  ...                   ...             ...   \n",
       "330        331  Female   53              Engineer             8.5   \n",
       "327        328  Female   53              Engineer             8.5   \n",
       "299        300  Female   51              Engineer             8.5   \n",
       "298        299  Female   51              Engineer             8.5   \n",
       "301        302  Female   51              Engineer             8.5   \n",
       "\n",
       "     Quality of Sleep  Physical Activity Level  Stress Level BMI Category  \\\n",
       "81                  4                       32             8   Overweight   \n",
       "80                  4                       32             8   Overweight   \n",
       "3                   4                       30             8        Obese   \n",
       "4                   4                       30             8        Obese   \n",
       "5                   4                       30             8        Obese   \n",
       "..                ...                      ...           ...          ...   \n",
       "330                 9                       30             3       Normal   \n",
       "327                 9                       30             3       Normal   \n",
       "299                 9                       30             3       Normal   \n",
       "298                 9                       30             3       Normal   \n",
       "301                 9                       30             3       Normal   \n",
       "\n",
       "    Blood Pressure  Heart Rate  Daily Steps Sleep Disorder  \n",
       "81          131/86          81         5200    Sleep Apnea  \n",
       "80          131/86          81         5200    Sleep Apnea  \n",
       "3           140/90          85         3000    Sleep Apnea  \n",
       "4           140/90          85         3000    Sleep Apnea  \n",
       "5           140/90          85         3000       Insomnia  \n",
       "..             ...         ...          ...            ...  \n",
       "330         125/80          65         5000            NaN  \n",
       "327         125/80          65         5000            NaN  \n",
       "299         125/80          65         5000            NaN  \n",
       "298         125/80          65         5000            NaN  \n",
       "301         125/80          65         5000            NaN  \n",
       "\n",
       "[374 rows x 13 columns]"
      ]
     },
     "execution_count": 213,
     "metadata": {},
     "output_type": "execute_result"
    }
   ],
   "source": [
    "df.sort_values(by='Sleep Duration')"
   ]
  },
  {
   "cell_type": "code",
   "execution_count": 214,
   "id": "3adac093",
   "metadata": {},
   "outputs": [],
   "source": [
    "df_c=df.copy()"
   ]
  },
  {
   "cell_type": "code",
   "execution_count": 215,
   "id": "0751f4ca",
   "metadata": {},
   "outputs": [
    {
     "data": {
      "text/plain": [
       "array(['Overweight', 'Normal', 'Obese', 'Normal Weight'], dtype=object)"
      ]
     },
     "execution_count": 215,
     "metadata": {},
     "output_type": "execute_result"
    }
   ],
   "source": [
    "df['BMI Category'].unique()\n"
   ]
  },
  {
   "cell_type": "code",
   "execution_count": 216,
   "id": "a35697c5",
   "metadata": {},
   "outputs": [
    {
     "data": {
      "text/plain": [
       "array(['Overweight', 'Normal', 'Obese', 'Normal Weight'], dtype=object)"
      ]
     },
     "execution_count": 216,
     "metadata": {},
     "output_type": "execute_result"
    }
   ],
   "source": [
    "df['BMI Category'].unique()"
   ]
  },
  {
   "cell_type": "code",
   "execution_count": 217,
   "id": "b7c9342f",
   "metadata": {},
   "outputs": [
    {
     "data": {
      "text/plain": [
       "<BarContainer object of 4 artists>"
      ]
     },
     "execution_count": 217,
     "metadata": {},
     "output_type": "execute_result"
    },
    {
     "data": {
      "image/png": "[encoded data removed]",
      "text/plain": [
       "<Figure size 640x480 with 1 Axes>"
      ]
     },
     "metadata": {},
     "output_type": "display_data"
    }
   ],
   "source": [
    "grouped_3=df.groupby('BMI Category')['Sleep Duration'].mean()\n",
    "plt.bar(grouped_3.index,grouped_3.values,edgecolor='green',color='green')\n"
   ]
  },
  {
   "cell_type": "code",
   "execution_count": 218,
   "id": "28f70178",
   "metadata": {},
   "outputs": [],
   "source": [
    "df_c['BMI Category'] = df_c['BMI Category'].replace('Normal Weight', 'Normal')\n",
    "df_c['BMI Category'] = df_c['BMI Category'].replace('Overweight', 'Obese')"
   ]
  },
  {
   "cell_type": "code",
   "execution_count": 219,
   "id": "a60eef89",
   "metadata": {},
   "outputs": [
    {
     "data": {
      "text/plain": [
       "array(['Overweight', 'Normal', 'Obese', 'Normal Weight'], dtype=object)"
      ]
     },
     "execution_count": 219,
     "metadata": {},
     "output_type": "execute_result"
    }
   ],
   "source": [
    "\n",
    "df['BMI Category'].unique()\n"
   ]
  },
  {
   "cell_type": "code",
   "execution_count": 220,
   "id": "d26c198e",
   "metadata": {},
   "outputs": [
    {
     "data": {
      "text/plain": [
       "Occupation\n",
       "Nurse                   73\n",
       "Doctor                  71\n",
       "Engineer                63\n",
       "Lawyer                  47\n",
       "Teacher                 40\n",
       "Accountant              37\n",
       "Salesperson             32\n",
       "Scientist                4\n",
       "Software Engineer        4\n",
       "Sales Representative     2\n",
       "Manager                  1\n",
       "Name: count, dtype: int64"
      ]
     },
     "execution_count": 220,
     "metadata": {},
     "output_type": "execute_result"
    }
   ],
   "source": [
    "df['Occupation'].unique()\n",
    "df['Occupation'].value_counts()"
   ]
  },
  {
   "cell_type": "code",
   "execution_count": 221,
   "id": "d50a6fa1",
   "metadata": {},
   "outputs": [
    {
     "data": {
      "text/plain": [
       "Person ID                    int64\n",
       "Gender                      object\n",
       "Age                          int64\n",
       "Occupation                  object\n",
       "Sleep Duration             float64\n",
       "Quality of Sleep             int64\n",
       "Physical Activity Level      int64\n",
       "Stress Level                 int64\n",
       "BMI Category                object\n",
       "Blood Pressure              object\n",
       "Heart Rate                   int64\n",
       "Daily Steps                  int64\n",
       "Sleep Disorder              object\n",
       "dtype: object"
      ]
     },
     "execution_count": 221,
     "metadata": {},
     "output_type": "execute_result"
    }
   ],
   "source": [
    "df_c.dtypes"
   ]
  },
  {
   "cell_type": "code",
   "execution_count": 222,
   "id": "9466b8e6",
   "metadata": {},
   "outputs": [],
   "source": [
    "df_c['Gender']=df_c['Gender'].map({'Male':0,'Female':1})"
   ]
  },
  {
   "cell_type": "code",
   "execution_count": 223,
   "id": "dd9e5f79",
   "metadata": {},
   "outputs": [],
   "source": [
    "df_c['BMI Category']=df_c['BMI Category'].map({'Normal':0,'Obese':1,'Underweight':-1})"
   ]
  },
  {
   "cell_type": "code",
   "execution_count": 224,
   "id": "c4ab1c66",
   "metadata": {},
   "outputs": [
    {
     "data": {
      "text/plain": [
       "{'Nurse': 73,\n",
       " 'Doctor': 71,\n",
       " 'Engineer': 63,\n",
       " 'Lawyer': 47,\n",
       " 'Teacher': 40,\n",
       " 'Accountant': 37,\n",
       " 'Salesperson': 32,\n",
       " 'Scientist': 4,\n",
       " 'Software Engineer': 4,\n",
       " 'Sales Representative': 2,\n",
       " 'Manager': 1}"
      ]
     },
     "execution_count": 224,
     "metadata": {},
     "output_type": "execute_result"
    }
   ],
   "source": [
    "freq_map = df_c['Occupation'].value_counts().to_dict()\n",
    "df_c['Occupation_freq'] = df_c['Occupation'].map(freq_map)\n",
    "freq_map"
   ]
  },
  {
   "cell_type": "code",
   "execution_count": 225,
   "id": "38f67f90",
   "metadata": {},
   "outputs": [
    {
     "data": {
      "text/plain": [
       "{'130/85': 99,\n",
       " '140/95': 65,\n",
       " '125/80': 65,\n",
       " '120/80': 45,\n",
       " '115/75': 32,\n",
       " '135/90': 27,\n",
       " '140/90': 4,\n",
       " '125/82': 4,\n",
       " '128/85': 3,\n",
       " '132/87': 3,\n",
       " '117/76': 2,\n",
       " '130/86': 2,\n",
       " '126/83': 2,\n",
       " '119/77': 2,\n",
       " '135/88': 2,\n",
       " '128/84': 2,\n",
       " '131/86': 2,\n",
       " '139/91': 2,\n",
       " '115/78': 2,\n",
       " '129/84': 2,\n",
       " '142/92': 2,\n",
       " '118/75': 2,\n",
       " '118/76': 1,\n",
       " '122/80': 1,\n",
       " '121/79': 1}"
      ]
     },
     "execution_count": 225,
     "metadata": {},
     "output_type": "execute_result"
    }
   ],
   "source": [
    "blood_map = df_c['Blood Pressure'].value_counts().to_dict()\n",
    "df_c['Blood_Pressure_freq'] = df_c['Blood Pressure'].map(blood_map)\n",
    "blood_map"
   ]
  },
  {
   "cell_type": "code",
   "execution_count": 226,
   "id": "0556de49",
   "metadata": {},
   "outputs": [],
   "source": [
    "sleep_disorder_map = df_c['Sleep Disorder'].value_counts().to_dict()\n",
    "df_c['Sleep_disorder_freq'] = df_c['Sleep Disorder'].map(sleep_disorder_map)"
   ]
  },
  {
   "cell_type": "code",
   "execution_count": 227,
   "id": "931ae411",
   "metadata": {},
   "outputs": [],
   "source": [
    "df_c['Gender'] = pd.to_numeric(df_c['Gender'], errors='coerce')\n"
   ]
  },
  {
   "cell_type": "code",
   "execution_count": 228,
   "id": "cf406c79",
   "metadata": {},
   "outputs": [],
   "source": [
    "df_c['Occupation'] = pd.to_numeric(df_c['Occupation'], errors='coerce')  \n"
   ]
  },
  {
   "cell_type": "code",
   "execution_count": 229,
   "id": "30201528",
   "metadata": {},
   "outputs": [],
   "source": [
    "df_c['Blood Pressure'] = pd.to_numeric(df_c['Blood Pressure'], errors='coerce')  \n"
   ]
  },
  {
   "cell_type": "code",
   "execution_count": 230,
   "id": "0cd1db16",
   "metadata": {},
   "outputs": [],
   "source": [
    "df_c['BMI Category'] = pd.to_numeric(df_c['BMI Category'], errors='coerce')  \n"
   ]
  },
  {
   "cell_type": "code",
   "execution_count": 231,
   "id": "a2cdc384",
   "metadata": {},
   "outputs": [],
   "source": [
    "df_c['Sleep Disorder'] = pd.to_numeric(df_c['Sleep Disorder'], errors='coerce')  \n"
   ]
  },
  {
   "cell_type": "code",
   "execution_count": 232,
   "id": "63f491cb",
   "metadata": {},
   "outputs": [
    {
     "data": {
      "text/plain": [
       "Person ID                    int64\n",
       "Gender                       int64\n",
       "Age                          int64\n",
       "Occupation                 float64\n",
       "Sleep Duration             float64\n",
       "Quality of Sleep             int64\n",
       "Physical Activity Level      int64\n",
       "Stress Level                 int64\n",
       "BMI Category                 int64\n",
       "Blood Pressure             float64\n",
       "Heart Rate                   int64\n",
       "Daily Steps                  int64\n",
       "Sleep Disorder             float64\n",
       "Occupation_freq              int64\n",
       "Blood_Pressure_freq          int64\n",
       "Sleep_disorder_freq        float64\n",
       "dtype: object"
      ]
     },
     "execution_count": 232,
     "metadata": {},
     "output_type": "execute_result"
    }
   ],
   "source": [
    "df_c.dtypes"
   ]
  },
  {
   "cell_type": "code",
   "execution_count": 233,
   "id": "352c65bf",
   "metadata": {},
   "outputs": [],
   "source": [
    "fill_cols = ['Gender', 'BMI Category', 'Occupation_freq', 'Blood_Pressure_freq', 'Sleep_disorder_freq']\n",
    "df_c[fill_cols] = df_c[fill_cols].fillna(-1)"
   ]
  },
  {
   "cell_type": "code",
   "execution_count": 234,
   "id": "8ca02c9e",
   "metadata": {},
   "outputs": [],
   "source": [
    "if df_c['Blood Pressure'].dtype == 'object' and df_c['Blood Pressure'].str.contains('/').any():\n",
    "    bp_split = df_c['Blood Pressure'].str.split('/', expand=True)\n",
    "    df_c['Systolic_BP'] = pd.to_numeric(bp_split[0], errors='coerce')\n",
    "    df_c['Diastolic_BP'] = pd.to_numeric(bp_split[1], errors='coerce')\n",
    "    print(\"Blood pressure split into Systolic and Diastolic components\")"
   ]
  },
  {
   "cell_type": "code",
   "execution_count": 235,
   "id": "0702a077",
   "metadata": {},
   "outputs": [],
   "source": [
    "clean_columns = [\n",
    "    'Age', 'Sleep Duration', 'Quality of Sleep', 'Physical Activity Level',\n",
    "    'Stress Level', 'Heart Rate', 'Daily Steps',\n",
    "    'Gender', 'BMI Category', 'Occupation_freq', 'Blood_Pressure_freq', 'Sleep_disorder_freq'\n",
    "]\n",
    "df_final_clean = df_c[clean_columns].copy()\n"
   ]
  },
  {
   "cell_type": "code",
   "execution_count": 236,
   "id": "a67d6374",
   "metadata": {},
   "outputs": [
    {
     "name": "stdout",
     "output_type": "stream",
     "text": [
      "\n",
      "Final dataset shape: (374, 12)\n",
      "Missing values: 0\n",
      "Data types:\n",
      "Age                          int64\n",
      "Sleep Duration             float64\n",
      "Quality of Sleep             int64\n",
      "Physical Activity Level      int64\n",
      "Stress Level                 int64\n",
      "Heart Rate                   int64\n",
      "Daily Steps                  int64\n",
      "Gender                       int64\n",
      "BMI Category                 int64\n",
      "Occupation_freq              int64\n",
      "Blood_Pressure_freq          int64\n",
      "Sleep_disorder_freq        float64\n",
      "dtype: object\n"
     ]
    }
   ],
   "source": [
    "print(f\"\\nFinal dataset shape: {df_final_clean.shape}\")\n",
    "print(f\"Missing values: {df_final_clean.isnull().sum().sum()}\")\n",
    "print(f\"Data types:\\n{df_final_clean.dtypes}\")"
   ]
  },
  {
   "cell_type": "code",
   "execution_count": 237,
   "id": "0da32682",
   "metadata": {},
   "outputs": [],
   "source": [
    "numeric_cols = ['Age', 'Sleep Duration', 'Quality of Sleep', 'Physical Activity Level',\n",
    "                'Stress Level', 'Heart Rate', 'Daily Steps', 'Gender', 'BMI Category', \n",
    "                'Occupation_freq', 'Blood _Pressure_freq', 'Sleep_disorder_freq']\n",
    "\n"
   ]
  },
  {
   "cell_type": "code",
   "execution_count": 238,
   "id": "3a176a17",
   "metadata": {},
   "outputs": [
    {
     "name": "stdout",
     "output_type": "stream",
     "text": [
      "\n",
      "Final dataset shape: (374, 12)\n",
      "Missing values: 0\n",
      "Data types:\n",
      "Age                          int64\n",
      "Sleep Duration             float64\n",
      "Quality of Sleep             int64\n",
      "Physical Activity Level      int64\n",
      "Stress Level                 int64\n",
      "Heart Rate                   int64\n",
      "Daily Steps                  int64\n",
      "Gender                       int64\n",
      "BMI Category                 int64\n",
      "Occupation_freq              int64\n",
      "Blood_Pressure_freq          int64\n",
      "Sleep_disorder_freq        float64\n",
      "dtype: object\n"
     ]
    }
   ],
   "source": [
    "print(f\"\\nFinal dataset shape: {df_final_clean.shape}\")\n",
    "print(f\"Missing values: {df_final_clean.isnull().sum().sum()}\")\n",
    "print(f\"Data types:\\n{df_final_clean.dtypes}\")"
   ]
  },
  {
   "cell_type": "code",
   "execution_count": 240,
   "id": "299ea8b7",
   "metadata": {},
   "outputs": [
    {
     "data": {
      "image/png": "[encoded data removed]",
      "text/plain": [
       "<Figure size 640x480 with 2 Axes>"
      ]
     },
     "metadata": {},
     "output_type": "display_data"
    }
   ],
   "source": [
    "corr_final = df_final_clean.corr()\n",
    "plt.imshow(corr_final, cmap='coolwarm', interpolation='none')\n",
    "plt.colorbar(label='correlation coefficient')\n",
    "plt.xticks(range(len(corr_final)), corr_final.columns, rotation=90)\n",
    "plt.yticks(range(len(corr_final)), corr_final.columns)\n",
    "plt.title(\"Final Correlation Heatmap - Cleaned Data\")\n",
    "plt.tight_layout()\n",
    "plt.show()"
   ]
  }
 ],
 "metadata": {
  "kernelspec": {
   "display_name": ".venv",
   "language": "python",
   "name": ".venv"
  },
  "language_info": {
   "codemirror_mode": {
    "name": "ipython",
    "version": 3
   },
   "file_extension": ".py",
   "mimetype": "text/x-python",
   "name": "python",
   "nbconvert_exporter": "python",
   "pygments_lexer": "ipython3",
   "version": "3.13.5"
  }
 },
 "nbformat": 4,
 "nbformat_minor": 5
}
